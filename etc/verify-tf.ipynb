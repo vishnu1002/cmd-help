{
 "cells": [
  {
   "cell_type": "markdown",
   "id": "d0079433",
   "metadata": {},
   "source": [
    "# Verify Tensorflow GPU setup with Jupyter Notebook"
   ]
  },
  {
   "cell_type": "code",
   "execution_count": null,
   "id": "4151bf40-ad09-4db5-a169-8dc8360d316d",
   "metadata": {},
   "outputs": [],
   "source": [
    "import tensorflow as tf\n",
    "from tensorflow import keras"
   ]
  },
  {
   "cell_type": "code",
   "execution_count": null,
   "id": "9b776040-2d5e-4f88-adc6-4b41fbf10fbc",
   "metadata": {},
   "outputs": [],
   "source": [
    "print(tf.config.list_physical_devices('GPU'))\n",
    "print(\"num GPUs available: \", len(tf.config.experimental.list_logical_devices('GPU')))"
   ]
  },
  {
   "cell_type": "markdown",
   "id": "28a31b9f",
   "metadata": {},
   "source": [
    "The output should be similar to:\n",
    "\n",
    "num GPUs available:  1\n",
    "\n",
    "[PhysicalDevice(name='/physical_device:GPU:0', device_type='GPU')]"
   ]
  },
  {
   "cell_type": "code",
   "execution_count": null,
   "id": "9353a912-5745-41e7-8c65-7c3b5f5e366b",
   "metadata": {},
   "outputs": [],
   "source": [
    "tf.test.is_built_with_cuda()"
   ]
  },
  {
   "cell_type": "code",
   "execution_count": null,
   "id": "18966b97-cb03-4a70-a2a8-9df2620bd97d",
   "metadata": {},
   "outputs": [],
   "source": [
    "print(tf.version.VERSION)"
   ]
  },
  {
   "cell_type": "markdown",
   "id": "48819788",
   "metadata": {},
   "source": [
    "# Test GPU with simple Neural Network Model"
   ]
  },
  {
   "cell_type": "code",
   "execution_count": null,
   "id": "35e37d3e",
   "metadata": {},
   "outputs": [],
   "source": [
    "import tensorflow as tf\n",
    "import time\n",
    "\n",
    "# Check if GPU is available\n",
    "if tf.config.list_physical_devices('GPU'):\n",
    "    print(\"GPU is available\")\n",
    "else:\n",
    "    print(\"GPU is NOT available\")\n",
    "\n",
    "# Generate synthetic data\n",
    "num_samples = 10000\n",
    "num_features = 2000\n",
    "num_classes = 10\n",
    "\n",
    "x_train = tf.random.normal((num_samples, num_features))\n",
    "y_train = tf.random.uniform((num_samples,), maxval=num_classes, dtype=tf.int32)\n",
    "\n",
    "# Define a simple neural network model\n",
    "model = tf.keras.models.Sequential([\n",
    "    tf.keras.layers.Dense(2048, activation='relu', input_shape=(num_features,)),\n",
    "    tf.keras.layers.Dropout(0.5),\n",
    "    tf.keras.layers.Dense(num_classes, activation='softmax')\n",
    "])\n",
    "\n",
    "# Compile the model\n",
    "model.compile(optimizer='adam',\n",
    "              loss='sparse_categorical_crossentropy',\n",
    "              metrics=['accuracy'])\n",
    "\n",
    "# Train the model\n",
    "start_time = time.time()\n",
    "model.fit(x_train, y_train, epochs=10, batch_size=32)  # Increace epochs\n",
    "end_time = time.time()\n",
    "\n",
    "print(\"\\nTraining time: {} seconds\".format(end_time - start_time))\n"
   ]
  }
 ],
 "metadata": {
  "kernelspec": {
   "display_name": "Python 3",
   "language": "python",
   "name": "python3"
  },
  "language_info": {
   "codemirror_mode": {
    "name": "ipython",
    "version": 3
   },
   "file_extension": ".py",
   "mimetype": "text/x-python",
   "name": "python",
   "nbconvert_exporter": "python",
   "pygments_lexer": "ipython3",
   "version": "3.6.13"
  }
 },
 "nbformat": 4,
 "nbformat_minor": 5
}
